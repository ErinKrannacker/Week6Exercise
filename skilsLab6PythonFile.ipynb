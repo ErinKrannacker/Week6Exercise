{
 "cells": [
  {
   "cell_type": "code",
   "execution_count": 1,
   "metadata": {},
   "outputs": [
    {
     "name": "stdin",
     "output_type": "stream",
     "text": [
      "this is the first input j\n",
      "This is the second input k\n"
     ]
    }
   ],
   "source": [
    "in1 = input(\"this is the first input\")\n",
    "in2 = input(\"This is the second input\")"
   ]
  },
  {
   "cell_type": "code",
   "execution_count": null,
   "metadata": {},
   "outputs": [],
   "source": [
    "correct = input(\"Your input were \" + in1 + \" and \" + in2 + \". Is this correct? (y/n)\")\n",
    "if correct == 'n':\n",
    "    print(\"The program did not work as intended\")\n",
    "else if correct == 'y':\n",
    "    print(\"all good\")\n",
    "else:\n",
    "    print(\"error\")"
   ]
  }
 ],
 "metadata": {
  "kernelspec": {
   "display_name": "Python 3",
   "language": "python",
   "name": "python3"
  },
  "language_info": {
   "codemirror_mode": {
    "name": "ipython",
    "version": 3
   },
   "file_extension": ".py",
   "mimetype": "text/x-python",
   "name": "python",
   "nbconvert_exporter": "python",
   "pygments_lexer": "ipython3",
   "version": "3.7.8"
  }
 },
 "nbformat": 4,
 "nbformat_minor": 4
}
